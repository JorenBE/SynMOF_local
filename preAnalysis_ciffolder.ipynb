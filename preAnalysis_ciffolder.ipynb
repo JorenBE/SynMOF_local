{
 "cells": [
  {
   "cell_type": "code",
   "execution_count": 1,
   "id": "c321a59d",
   "metadata": {},
   "outputs": [],
   "source": [
    "import pandas as pd"
   ]
  },
  {
   "cell_type": "code",
   "execution_count": 7,
   "id": "0c719bc4",
   "metadata": {},
   "outputs": [],
   "source": [
    "import os\n",
    "import shutil\n",
    "\n",
    "# Paths\n",
    "source_folder = '/home/jorenvanherck/Documents/synmofWeb/local_loop/CLEANED_CIFS_RECONVERTED_FOR_RASPA/CIFS'\n",
    "destination_folder = '/home/jorenvanherck/Documents/synmofWeb/local_loop/PRISMA'\n",
    "text_file = '/home/jorenvanherck/Documents/synmofWeb/local_loop/RLYGOOD.txt'  # Change this to your actual text file name\n",
    "\n",
    "# Make sure the destination folder exists\n",
    "os.makedirs(destination_folder, exist_ok=True)\n",
    "\n",
    "# Read names from the text file\n",
    "with open(text_file, 'r') as f:\n",
    "    names = [line.strip() for line in f if line.strip()]  # Strips empty lines and whitespace\n",
    "\n",
    "# Process each name\n",
    "for name in names:\n",
    "    cif_filename = f\"{name}.cif\"\n",
    "    source_path = os.path.join(source_folder, cif_filename)\n",
    "    destination_path = os.path.join(destination_folder, cif_filename)\n",
    "\n",
    "    if os.path.exists(source_path):\n",
    "        shutil.copy(source_path, destination_path)\n",
    "        #print(f\"Copied: {cif_filename}\")\n",
    "    else:\n",
    "        print(f\"File not found: {cif_filename}\")"
   ]
  },
  {
   "cell_type": "code",
   "execution_count": 8,
   "id": "58f50866",
   "metadata": {},
   "outputs": [
    {
     "name": "stdout",
     "output_type": "stream",
     "text": [
      "765\n"
     ]
    }
   ],
   "source": [
    "print(len(os.listdir(destination_folder)))"
   ]
  }
 ],
 "metadata": {
  "kernelspec": {
   "display_name": "synmofweb",
   "language": "python",
   "name": "python3"
  },
  "language_info": {
   "codemirror_mode": {
    "name": "ipython",
    "version": 3
   },
   "file_extension": ".py",
   "mimetype": "text/x-python",
   "name": "python",
   "nbconvert_exporter": "python",
   "pygments_lexer": "ipython3",
   "version": "3.8.20"
  }
 },
 "nbformat": 4,
 "nbformat_minor": 5
}
